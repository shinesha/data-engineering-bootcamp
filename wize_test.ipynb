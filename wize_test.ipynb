{
 "cells": [
  {
   "cell_type": "code",
   "execution_count": 5,
   "metadata": {},
   "outputs": [
    {
     "data": {
      "text/plain": [
       "'C:\\\\spark-3.1.2-bin-hadoop3.2'"
      ]
     },
     "execution_count": 5,
     "metadata": {},
     "output_type": "execute_result"
    }
   ],
   "source": [
    "import findspark\n",
    "findspark.init()\n",
    "findspark.find()\n",
    "import pyspark\n",
    "findspark.find()"
   ]
  },
  {
   "cell_type": "code",
   "execution_count": 6,
   "metadata": {},
   "outputs": [],
   "source": [
    "import math\n",
    "import pandas as pd\n",
    "from pyspark.sql import SparkSession\n",
    "from pyspark.sql import Row\n",
    "from pyspark.sql.functions import lit\n",
    "from pyspark.sql.types import StringType\n",
    "from pyspark.sql import SQLContext"
   ]
  },
  {
   "cell_type": "code",
   "execution_count": 7,
   "metadata": {},
   "outputs": [],
   "source": [
    "spark = SparkSession.builder.appName('SparkSQL_Python_Profeco').getOrCreate()"
   ]
  },
  {
   "cell_type": "code",
   "execution_count": 20,
   "metadata": {},
   "outputs": [],
   "source": [
    "data_path = 'C:/Users/Jodre/OneDrive/Desktop/Wizeline_Data/'"
   ]
  },
  {
   "cell_type": "code",
   "execution_count": 21,
   "metadata": {},
   "outputs": [],
   "source": [
    "file_path = data_path + 'all_data.csv'\n",
    "df = spark.read.format('csv').option(\"header\", \"true\").load(file_path)"
   ]
  },
  {
   "cell_type": "code",
   "execution_count": 22,
   "metadata": {},
   "outputs": [
    {
     "name": "stdout",
     "output_type": "stream",
     "text": [
      "+--------------------+--------------------+------------------+----------------+----------------+------+--------------------+------------------+--------------------+--------------------+--------------------+----------------+--------------------+--------+----------+\n",
      "|            producto|        presentacion|             marca|       categoria|        catalogo|precio|       fechaRegistro|   cadenaComercial|                giro|     nombreComercial|           direccion|          estado|           municipio| latitud|  longitud|\n",
      "+--------------------+--------------------+------------------+----------------+----------------+------+--------------------+------------------+--------------------+--------------------+--------------------+----------------+--------------------+--------+----------+\n",
      "|CUADERNO FORMA IT...|96 HOJAS PASTA DU...|          ESTRELLA|MATERIAL ESCOLAR|UTILES ESCOLARES|  25.9|2011-05-18 00:00:...|ABASTECEDORA LUMEN|          PAPELERIAS|ABASTECEDORA LUME...|CANNES No. 6 ESQ....|DISTRITO FEDERAL|TLALPAN          ...|19.29699|-99.125417|\n",
      "|            CRAYONES|CAJA 12 CERAS. JU...|           CRAYOLA|MATERIAL ESCOLAR|UTILES ESCOLARES|  27.5|2011-05-18 00:00:...|ABASTECEDORA LUMEN|          PAPELERIAS|ABASTECEDORA LUME...|CANNES No. 6 ESQ....|DISTRITO FEDERAL|TLALPAN          ...|19.29699|-99.125417|\n",
      "|            CRAYONES|CAJA 12 CERAS. TA...|           CRAYOLA|MATERIAL ESCOLAR|UTILES ESCOLARES|  13.9|2011-05-18 00:00:...|ABASTECEDORA LUMEN|          PAPELERIAS|ABASTECEDORA LUME...|CANNES No. 6 ESQ....|DISTRITO FEDERAL|TLALPAN          ...|19.29699|-99.125417|\n",
      "|   COLORES DE MADERA|CAJA 12 PIEZAS LA...|          PINCELIN|MATERIAL ESCOLAR|UTILES ESCOLARES|  46.9|2011-05-18 00:00:...|ABASTECEDORA LUMEN|          PAPELERIAS|ABASTECEDORA LUME...|CANNES No. 6 ESQ....|DISTRITO FEDERAL|TLALPAN          ...|19.29699|-99.125417|\n",
      "|         COLOR LARGO|CAJA 36 PIEZAS. C...|           CRAYOLA|MATERIAL ESCOLAR|UTILES ESCOLARES|   115|2011-05-18 00:00:...|ABASTECEDORA LUMEN|          PAPELERIAS|ABASTECEDORA LUME...|CANNES No. 6 ESQ....|DISTRITO FEDERAL|TLALPAN          ...|19.29699|-99.125417|\n",
      "|           BOLIGRAFO|BLISTER 3 PIEZAS....|  BIC. CRISTAL GEL|MATERIAL ESCOLAR|UTILES ESCOLARES|  32.5|2011-05-18 00:00:...|ABASTECEDORA LUMEN|          PAPELERIAS|ABASTECEDORA LUME...|CANNES No. 6 ESQ....|DISTRITO FEDERAL|TLALPAN          ...|19.29699|-99.125417|\n",
      "|      CINTA ADHESIVA|BOLSA 1 PIEZA. 12...|    SCOTCH 3M. 600|MATERIAL ESCOLAR|UTILES ESCOLARES|     9|2011-05-18 00:00:...|ABASTECEDORA LUMEN|          PAPELERIAS|ABASTECEDORA LUME...|CANNES No. 6 ESQ....|DISTRITO FEDERAL|TLALPAN          ...|19.29699|-99.125417|\n",
      "|   COLORES DE MADERA|CAJA 24 PIEZAS. L...|    KORES. KOLORES|MATERIAL ESCOLAR|UTILES ESCOLARES|  95.9|2011-05-18 00:00:...|ABASTECEDORA LUMEN|          PAPELERIAS|ABASTECEDORA LUME...|CANNES No. 6 ESQ....|DISTRITO FEDERAL|TLALPAN          ...|19.29699|-99.125417|\n",
      "|            CRAYONES|CAJA 24 CERAS. TA...|PAPER MATE. CARMEN|MATERIAL ESCOLAR|UTILES ESCOLARES|  23.2|2011-05-18 00:00:...|ABASTECEDORA LUMEN|          PAPELERIAS|ABASTECEDORA LUME...|CANNES No. 6 ESQ....|DISTRITO FEDERAL|TLALPAN          ...|19.29699|-99.125417|\n",
      "|  PAN BLANCO BOLILLO|               PIEZA|               S/M|             PAN|         BASICOS|   1.2|2011-01-10 00:00:...|COMERCIAL MEXICANA|TIENDA DE AUTOSER...|COMERCIAL MEXICAN...|AV. LAGO DE GUADA...|          MÉXICO|ATIZAPAN         ...|      NA|        NA|\n",
      "+--------------------+--------------------+------------------+----------------+----------------+------+--------------------+------------------+--------------------+--------------------+--------------------+----------------+--------------------+--------+----------+\n",
      "only showing top 10 rows\n",
      "\n"
     ]
    }
   ],
   "source": [
    "df.show(10)"
   ]
  },
  {
   "cell_type": "code",
   "execution_count": 24,
   "metadata": {},
   "outputs": [
    {
     "data": {
      "text/plain": [
       "['producto',\n",
       " 'presentacion',\n",
       " 'marca',\n",
       " 'categoria',\n",
       " 'catalogo',\n",
       " 'precio',\n",
       " 'fechaRegistro',\n",
       " 'cadenaComercial',\n",
       " 'giro',\n",
       " 'nombreComercial',\n",
       " 'direccion',\n",
       " 'estado',\n",
       " 'municipio',\n",
       " 'latitud',\n",
       " 'longitud']"
      ]
     },
     "execution_count": 24,
     "metadata": {},
     "output_type": "execute_result"
    }
   ],
   "source": [
    "df.columns"
   ]
  },
  {
   "cell_type": "code",
   "execution_count": 31,
   "metadata": {},
   "outputs": [],
   "source": [
    "df = df.drop_duplicates()"
   ]
  },
  {
   "cell_type": "code",
   "execution_count": 34,
   "metadata": {},
   "outputs": [],
   "source": [
    "df = df.na.drop()"
   ]
  },
  {
   "cell_type": "code",
   "execution_count": 35,
   "metadata": {},
   "outputs": [],
   "source": [
    "df.createOrReplaceTempView('profeco')"
   ]
  },
  {
   "cell_type": "code",
   "execution_count": 36,
   "metadata": {},
   "outputs": [
    {
     "data": {
      "text/plain": [
       "705"
      ]
     },
     "execution_count": 36,
     "metadata": {},
     "output_type": "execute_result"
    }
   ],
   "source": [
    "spark.sql(\"Select distinct cadenaComercial \" \n",
    "                    \"from profeco\").count()"
   ]
  },
  {
   "cell_type": "code",
   "execution_count": 37,
   "metadata": {},
   "outputs": [],
   "source": [
    "df_sql = spark.sql(\"select \"\n",
    "    \"z.estado, \"\n",
    "    \"z.producto, \"\n",
    "    \"z.cantidad \"\n",
    "\"from ( \"\n",
    " \" select \"\n",
    " \" estado, \"\n",
    " \" max(cantidad) as top_cantidad \"\n",
    " \"  from \"\n",
    " \"  ( \"\n",
    " \"  select \"\n",
    " \"  estado, \"\n",
    "                    \"producto, \"\n",
    "                    \"count(*) as cantidad \"\n",
    "                \"from \"\n",
    "                    \"profeco \"\n",
    "                \"group by \"\n",
    "                    \"estado, \"\n",
    "                    \"producto \" \n",
    "            \") x \"\n",
    "        \"group by \"\n",
    "            \" estado \"\n",
    "    \") y \"\n",
    "    \"join \"\n",
    "        \"( \"\n",
    "            \"select \" \n",
    "                \"estado, \"\n",
    "                \"producto, \"\n",
    "                \"count(*) as cantidad \"\n",
    "            \"from \"\n",
    "                \"profeco \"\n",
    "            \"group by \"\n",
    "                \"estado, \"\n",
    "                \"producto \"\n",
    "        \") z \"\n",
    "    \"on \"  \n",
    "        \"y.estado = z.estado and \"\n",
    "        \"y.top_cantidad = z.cantidad\")"
   ]
  },
  {
   "cell_type": "code",
   "execution_count": 38,
   "metadata": {},
   "outputs": [
    {
     "name": "stdout",
     "output_type": "stream",
     "text": [
      "+--------------------+--------------------+--------+\n",
      "|              estado|            producto|cantidad|\n",
      "+--------------------+--------------------+--------+\n",
      "| BAJA CALIFORNIA SUR|            REFRESCO|   26290|\n",
      "|            GUERRERO|            REFRESCO|    8328|\n",
      "|              OAXACA|LECHE ULTRAPASTEU...|   17575|\n",
      "|              MÉXICO|            REFRESCO|  187179|\n",
      "|             CHIAPAS|            REFRESCO|   13776|\n",
      "|           QUERÉTARO|LECHE ULTRAPASTEU...|   27050|\n",
      "|             MORELOS|            REFRESCO|    8939|\n",
      "|             HIDALGO|            REFRESCO|   17473|\n",
      "|VERACRUZ DE IGNAC...|            REFRESCO|   13674|\n",
      "| COL. EDUARDO GUERRA|            REFRESCO|     237|\n",
      "|             JALISCO|            REFRESCO|   79678|\n",
      "|      AGUASCALIENTES|                 FUD|   11218|\n",
      "|           CHIHUAHUA|   DETERGENTE P/ROPA|   14463|\n",
      "|             NAYARIT|            REFRESCO|    7409|\n",
      "|          TAMAULIPAS|            REFRESCO|   20867|\n",
      "|             TABASCO|            REFRESCO|   27698|\n",
      "|        QUINTANA ROO|                 FUD|   32733|\n",
      "|              estado|            producto|       1|\n",
      "|            TLAXCALA|            REFRESCO|   42137|\n",
      "|              PUEBLA|            REFRESCO|   30431|\n",
      "|       ESQ. SUR 125\"|  PAN BLANCO BOLILLO|     128|\n",
      "|     SAN LUIS POTOSÍ|                 FUD|    9317|\n",
      "|    DISTRITO FEDERAL|            REFRESCO|  276523|\n",
      "|              COLIMA|   DETERGENTE P/ROPA|   16226|\n",
      "| MICHOACÁN DE OCAMPO|   DETERGENTE P/ROPA|   38665|\n",
      "|          NUEVO LEÓN|   DETERGENTE P/ROPA|   48028|\n",
      "|           ZACATECAS|   DETERGENTE P/ROPA|   19739|\n",
      "|             DURANGO|           LAVADORAS|    9213|\n",
      "|             YUCATÁN|LECHE ULTRAPASTEU...|   35180|\n",
      "|              SONORA|            REFRESCO|   32849|\n",
      "|            CAMPECHE|                 FUD|   12011|\n",
      "|          GUANAJUATO|            REFRESCO|   47779|\n",
      "|COAHUILA DE ZARAGOZA|                 FUD|   26724|\n",
      "|     BAJA CALIFORNIA|            REFRESCO|   35390|\n",
      "|             SINALOA|            REFRESCO|   31369|\n",
      "+--------------------+--------------------+--------+\n",
      "\n"
     ]
    }
   ],
   "source": [
    "df_sql.show(100)"
   ]
  },
  {
   "cell_type": "code",
   "execution_count": 39,
   "metadata": {},
   "outputs": [
    {
     "name": "stdout",
     "output_type": "stream",
     "text": [
      "+---------------+--------+\n",
      "|cadenaComercial|variedad|\n",
      "+---------------+--------+\n",
      "|        SORIANA|    1046|\n",
      "+---------------+--------+\n",
      "\n"
     ]
    }
   ],
   "source": [
    "df_sql = spark.sql(\"select cadenaComercial, count(DISTINCT producto) as variedad \"\n",
    "           \" from profeco \"           \n",
    "           \"group by cadenaComercial \"\n",
    "           \"order by variedad desc \"\n",
    "           \"LIMIT 1 \")\n",
    "df_sql.show()"
   ]
  },
  {
   "cell_type": "code",
   "execution_count": null,
   "metadata": {},
   "outputs": [],
   "source": []
  }
 ],
 "metadata": {
  "kernelspec": {
   "display_name": "Python 3",
   "language": "python",
   "name": "python3"
  },
  "language_info": {
   "codemirror_mode": {
    "name": "ipython",
    "version": 3
   },
   "file_extension": ".py",
   "mimetype": "text/x-python",
   "name": "python",
   "nbconvert_exporter": "python",
   "pygments_lexer": "ipython3",
   "version": "3.8.3"
  }
 },
 "nbformat": 4,
 "nbformat_minor": 4
}
